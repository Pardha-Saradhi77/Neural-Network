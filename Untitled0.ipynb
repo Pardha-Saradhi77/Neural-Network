{
  "nbformat": 4,
  "nbformat_minor": 0,
  "metadata": {
    "colab": {
      "provenance": []
    },
    "kernelspec": {
      "name": "python3",
      "display_name": "Python 3"
    },
    "language_info": {
      "name": "python"
    }
  },
  "cells": [
    {
      "cell_type": "code",
      "source": [
        "#Question 1)A\n",
        "\n",
        "# Initialization of an empty list to store input characters and an empty string.\n",
        "char_list = []\n",
        "res_string = \"\"\n",
        "\n",
        "# Keep entering characters untill Enter is clicked.\n",
        "while True:\n",
        "    input_char = input(\"Enter character or press Enter to finsih: \")\n",
        "    if not input_char:\n",
        "        break\n",
        "    char_list.append(input_char)\n",
        "\n",
        "# Checks whether the length of string is atleast two.\n",
        "if len(char_list) >= 2:\n",
        "\n",
        "    # Skips the first two characters and reverses the remaining characters.\n",
        "    output_list = char_list[2:][::-1]\n",
        "\n",
        "    # Prints the reversed characters as a string.\n",
        "    print(res_string.join(output_list))\n",
        "else:\n",
        "    print(\"Enter atleast two characters.\")\n"
      ],
      "metadata": {
        "colab": {
          "base_uri": "https://localhost:8080/"
        },
        "id": "KkO-IUHzqpnk",
        "outputId": "af9b2d39-a1d5-4fe9-c49c-3c3c96a4ab54"
      },
      "execution_count": 2,
      "outputs": [
        {
          "output_type": "stream",
          "name": "stdout",
          "text": [
            "Enter character or press Enter to finsih: \n",
            "Enter atleast two characters.\n"
          ]
        }
      ]
    },
    {
      "cell_type": "code",
      "source": [
        "#Question 1)B.\n",
        "\n",
        "# Taking two numbers as input from user.\n",
        "first_number = float(input(\"Enter first number: \"))\n",
        "second_number = float(input(\"Enter second number: \"))\n",
        "\n",
        "# Performing arithematic operations and displaying the results.\n",
        "print(\"Addition: \", first_number+second_number)\n",
        "print(\"Multiplication: \", first_number*second_number)\n",
        "print(\"Substraction: \", first_number-second_number)\n",
        "print(\"Division: \", first_number/second_number)"
      ],
      "metadata": {
        "colab": {
          "base_uri": "https://localhost:8080/"
        },
        "id": "E6H2yL3Uqr7C",
        "outputId": "d504d621-47a5-4d6c-ac90-67218efe7e77"
      },
      "execution_count": 3,
      "outputs": [
        {
          "output_type": "stream",
          "name": "stdout",
          "text": [
            "Enter first number: 9\n",
            "Enter second number: 3\n",
            "Addition:  12.0\n",
            "Multiplication:  27.0\n",
            "Substraction:  6.0\n",
            "Division:  3.0\n"
          ]
        }
      ]
    },
    {
      "cell_type": "code",
      "source": [
        "# Get input sentence from the user.\n",
        "input_str = input(\"Please enter the sentence: \")\n",
        "\n",
        "# Split method is used to convert the input sentence into array of strings\n",
        "array_of_strings = input_str.split()\n",
        "\n",
        "# Initialization of empty string.\n",
        "output_str = \"\"\n",
        "\n",
        "# For loop is used to iterate over the array of strings\n",
        "for i in range(0,len(array_of_strings)):\n",
        "     # To check if the word `python` is or not.\n",
        "    if(array_of_strings[i]==\"python\"):\n",
        "        # To replace `python` with `pythons`.\n",
        "        array_of_strings[i]=\"pythons\"\n",
        "\n",
        "     # Append the current word to the output string.\n",
        "    output_str += array_of_strings[i]+\" \"\n",
        "# Print the resultant output.\n",
        "print(output_str)"
      ],
      "metadata": {
        "colab": {
          "base_uri": "https://localhost:8080/"
        },
        "id": "ZW4h-Kdeq06d",
        "outputId": "cd9167a9-f634-4226-b3f3-d9cf28e57e40"
      },
      "execution_count": 4,
      "outputs": [
        {
          "output_type": "stream",
          "name": "stdout",
          "text": [
            "Please enter the sentence: I love playing with python\n",
            "I love playing with pythons \n"
          ]
        }
      ]
    },
    {
      "cell_type": "code",
      "source": [
        "#Question 3.\n",
        "\n",
        "# Get the class score as input from user.\n",
        "class_score = float(input(\"Please, Enter the class score: \"))\n",
        "\n",
        "# Checks the class score and assign the respective grade\n",
        "if(class_score>=90 and class_score<=100):\n",
        "    print(\"Grade A\")\n",
        "elif(class_score>=80 and class_score<90):\n",
        "    print(\"Grade B\")\n",
        "elif(class_score>=70 and class_score<80):\n",
        "    print(\"Grade C\")\n",
        "elif(class_score>=60 and class_score<70):\n",
        "    print(\"Grade D\")\n",
        "elif(class_score>=0 and class_score<60):\n",
        "    print(\"Grade F\")\n",
        "else:\n",
        "    # Handles the case when class score given is invalid.\n",
        "    print(\"Please enter a valid score\")"
      ],
      "metadata": {
        "colab": {
          "base_uri": "https://localhost:8080/"
        },
        "id": "D8EMEQEFrFEK",
        "outputId": "86f24a08-7cf4-4591-e8e4-cc08a43fbbf4"
      },
      "execution_count": 5,
      "outputs": [
        {
          "output_type": "stream",
          "name": "stdout",
          "text": [
            "Please, Enter the class score: 89\n",
            "Grade B\n"
          ]
        }
      ]
    }
  ]
}